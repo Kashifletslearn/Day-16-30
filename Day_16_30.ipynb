{
  "nbformat": 4,
  "nbformat_minor": 0,
  "metadata": {
    "colab": {
      "provenance": [],
      "authorship_tag": "ABX9TyPQmpXqk/DBMylj5DT06lGh",
      "include_colab_link": true
    },
    "kernelspec": {
      "name": "python3",
      "display_name": "Python 3"
    },
    "language_info": {
      "name": "python"
    }
  },
  "cells": [
    {
      "cell_type": "markdown",
      "metadata": {
        "id": "view-in-github",
        "colab_type": "text"
      },
      "source": [
        "<a href=\"https://colab.research.google.com/github/Kashifletslearn/Day-16-30/blob/main/Day_16_30.ipynb\" target=\"_parent\"><img src=\"https://colab.research.google.com/assets/colab-badge.svg\" alt=\"Open In Colab\"/></a>"
      ]
    },
    {
      "cell_type": "markdown",
      "source": [
        "# Hello i am Kashif khan let's learn together\n",
        "\n",
        "1.   Github   : https://github.com/Kashifletslearn/Day-16-30\n",
        "2.   Linkedin : https://www.linkedin.com/in/kashifkhank/\n",
        "3.   Gmail    : kashifdocument11@gmail.com\n",
        "\n",
        "\n",
        "\n"
      ],
      "metadata": {
        "id": "__Jx8D8lKlcU"
      }
    },
    {
      "cell_type": "markdown",
      "source": [
        "#For suggestions and improvement Email me\n"
      ],
      "metadata": {
        "id": "NSCSBEllfsLt"
      }
    },
    {
      "cell_type": "markdown",
      "metadata": {
        "id": "Ase3qjp9cJUC"
      },
      "source": [
        "# <u>**Problem 1**</u>\n",
        "\n",
        "### Construct a 2-D 10*10 matrix with the following constraints:\n",
        "\n",
        "*  ####  The element at [0,0] should be 1\n",
        "*  ####   The element at [0,9] should be 100\n",
        "* ####   The element at [9,0] should be 50\n",
        "* ####   The interval between elements in rows should be constant\n",
        "* ####   The interval between elements in columns should be constant\n",
        "\n"
      ]
    },
    {
      "cell_type": "code",
      "source": [
        "import numpy as np\n",
        "\n",
        "first_row=np.linspace(1,50,10,endpoint=True)\n",
        "emmty_list=[]\n",
        "\n",
        "for i in first_row:\n",
        "  emmty_list.append(np.linspace(i,i*100,10,endpoint=True,dtype=int))\n",
        "\n",
        "new_array=np.array(emmty_list)\n",
        "print(new_array)"
      ],
      "metadata": {
        "id": "5w7OUjLBdmoV",
        "colab": {
          "base_uri": "https://localhost:8080/"
        },
        "outputId": "c60d9719-c958-4b44-ccff-bf2d2d6fa2b0"
      },
      "execution_count": 3,
      "outputs": [
        {
          "output_type": "stream",
          "name": "stdout",
          "text": [
            "[[   1   12   23   34   45   56   67   78   89  100]\n",
            " [   6   77  148  219  290  360  431  502  573  644]\n",
            " [  11  142  273  404  535  665  796  927 1058 1188]\n",
            " [  17  208  398  589  780  970 1161 1352 1542 1733]\n",
            " [  22  273  523  774 1025 1275 1526 1776 2027 2277]\n",
            " [  28  338  649  959 1270 1580 1890 2201 2511 2822]\n",
            " [  33  404  774 1144 1515 1885 2255 2626 2996 3366]\n",
            " [  39  469  899 1329 1760 2190 2620 3050 3480 3911]\n",
            " [  44  534 1024 1514 2005 2495 2985 3475 3965 4455]\n",
            " [  50  600 1150 1700 2250 2800 3350 3900 4450 5000]]\n"
          ]
        }
      ]
    }
  ]
}